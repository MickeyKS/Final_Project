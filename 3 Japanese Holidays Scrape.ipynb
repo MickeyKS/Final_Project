{
 "cells": [
  {
   "cell_type": "markdown",
   "metadata": {},
   "source": [
    "3. Japanese Holidays Data Scrape"
   ]
  },
  {
   "cell_type": "code",
   "execution_count": 1,
   "metadata": {},
   "outputs": [],
   "source": [
    "#Import Dependencies\n",
    "import re\n",
    "import time\n",
    "import requests\n",
    "from bs4 import BeautifulSoup\n",
    "import pandas as pd\n",
    "from pandas import DataFrame\n",
    "import calendar\n",
    "from selenium import webdriver\n",
    "from selenium.webdriver import ActionChains\n",
    "from selenium.webdriver.chrome.options import Options\n",
    "from selenium.webdriver.support.ui import WebDriverWait\n",
    "from selenium.webdriver.support.ui import Select\n",
    "from selenium.webdriver.support import expected_conditions as EC\n",
    "from selenium.webdriver.common.by import By \n",
    "from time import sleep"
   ]
  },
  {
   "cell_type": "code",
   "execution_count": 2,
   "metadata": {},
   "outputs": [],
   "source": [
    "#Define URL\n",
    "d = webdriver.Chrome('C:\\Windows/chromedriver')\n",
    "url = \"https://www.timeanddate.com/holidays/japan/\"\n",
    "d.get(url)\n",
    "d.maximize_window()"
   ]
  },
  {
   "cell_type": "code",
   "execution_count": 4,
   "metadata": {},
   "outputs": [],
   "source": [
    "#Scrape Calendar Data\n",
    "elem = d.find_element_by_xpath('//*[@id=\"holidays-table\"]') \n",
    "data = elem.text\n",
    "i = 1\n",
    "new_data = []\n",
    "temp = []\n",
    "for e in (data.split(\"\\n\")[10:]):\n",
    "    temp.append(e)\n",
    "    if i%4==0:\n",
    "        new_data.append(temp)\n",
    "        temp = []\n",
    "    i = i+1 "
   ]
  },
  {
   "cell_type": "code",
   "execution_count": 5,
   "metadata": {},
   "outputs": [
    {
     "name": "stdout",
     "output_type": "stream",
     "text": [
      "                                              Date  \\\n",
      "0  20 Mar Saturday Spring Equinox National holiday   \n",
      "1  5 May Wednesday Children's Day National holiday   \n",
      "2        23 Jul Friday Sports Day National holiday   \n",
      "3    9 Aug Monday Nagasaki Memorial Day Observance   \n",
      "4     3 Nov Wednesday Culture Day National holiday   \n",
      "\n",
      "                                                 Day  \\\n",
      "0         29 Apr Thursday Shōwa Day National holiday   \n",
      "1                 21 Jun Monday June Solstice Season   \n",
      "2     6 Aug Friday Hiroshima Memorial Day Observance   \n",
      "3  20 Sep Monday Respect for the Aged Day Nationa...   \n",
      "4                 15 Nov Monday 7-5-3 Day Observance   \n",
      "\n",
      "                                                Name  \\\n",
      "0  3 May Monday Constitution Memorial Day Nationa...   \n",
      "1           7 Jul Wednesday Star Festival Observance   \n",
      "2         8 Aug Sunday Mountain Day National holiday   \n",
      "3           23 Sep Thursday September Equinox Season   \n",
      "4  23 Nov Tuesday Labor Thanksgiving Day National...   \n",
      "\n",
      "                                                Type  \n",
      "0        4 May Tuesday Greenery Day National holiday  \n",
      "1           22 Jul Thursday Sea Day National holiday  \n",
      "2  9 Aug Monday Day off for Mountain Day National...  \n",
      "3    23 Sep Thursday Autumn Equinox National holiday  \n",
      "4          22 Dec Wednesday December Solstice Season  \n"
     ]
    }
   ],
   "source": [
    "#Place Scraped Data into DataFrame\n",
    "holidays = pd.DataFrame(new_data, columns=[\"Date\", \"Day\", \"Name\", \"Type\"])\n",
    "\n",
    "#Print Results\n",
    "print(holidays)"
   ]
  },
  {
   "cell_type": "code",
   "execution_count": 6,
   "metadata": {},
   "outputs": [],
   "source": [
    "#Save DataFrame as CSV\n",
    "holidays.to_csv(r'C:\\Users\\Mickey\\Desktop\\Final_Project\\Output\\holidays.csv', index = False)"
   ]
  },
  {
   "cell_type": "code",
   "execution_count": null,
   "metadata": {},
   "outputs": [],
   "source": []
  }
 ],
 "metadata": {
  "kernelspec": {
   "display_name": "Python 3",
   "language": "python",
   "name": "python3"
  },
  "language_info": {
   "codemirror_mode": {
    "name": "ipython",
    "version": 3
   },
   "file_extension": ".py",
   "mimetype": "text/x-python",
   "name": "python",
   "nbconvert_exporter": "python",
   "pygments_lexer": "ipython3",
   "version": "3.8.3"
  }
 },
 "nbformat": 4,
 "nbformat_minor": 4
}
