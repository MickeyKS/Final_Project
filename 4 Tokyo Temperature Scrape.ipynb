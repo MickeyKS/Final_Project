{
 "cells": [
  {
   "cell_type": "code",
   "execution_count": 1,
   "metadata": {},
   "outputs": [],
   "source": [
    "#Import Dependencies\n",
    "import re\n",
    "import time\n",
    "import requests\n",
    "from bs4 import BeautifulSoup\n",
    "import pandas as pd\n",
    "from pandas import DataFrame\n",
    "import calendar\n",
    "from selenium import webdriver\n",
    "from selenium.webdriver import ActionChains\n",
    "from selenium.webdriver.chrome.options import Options\n",
    "from selenium.webdriver.support.ui import WebDriverWait\n",
    "from selenium.webdriver.support.ui import Select\n",
    "from selenium.webdriver.support import expected_conditions as EC\n",
    "from selenium.webdriver.common.by import By\n",
    "from time import sleep"
   ]
  },
  {
   "cell_type": "code",
   "execution_count": 2,
   "metadata": {},
   "outputs": [],
   "source": [
    "#Define URL\n",
    "d = webdriver.Chrome('C:\\Windows/chromedriver')\n",
    "url = \"https://www.accuweather.com/en/jp/tokyo/226396/january-weather/226396?year=2021\"\n",
    "d.get(url)\n",
    "d.maximize_window()"
   ]
  },
  {
   "cell_type": "code",
   "execution_count": 4,
   "metadata": {},
   "outputs": [],
   "source": [
    "#Scrape Calendar Data\n",
    "elem = d.find_element_by_xpath('/html/body/div/div[5]/div[1]/div[1]/div[2]/div/div[2]') \n",
    "data = elem.text\n",
    "i = 1\n",
    "new_data = []\n",
    "temp = []\n",
    "for e in (data.split(\"\\n\")[10:]):\n",
    "    temp.append(e)\n",
    "    if i%4==0:\n",
    "        new_data.append(temp)\n",
    "        temp = []\n",
    "    i = i+1 "
   ]
  },
  {
   "cell_type": "code",
   "execution_count": 5,
   "metadata": {},
   "outputs": [
    {
     "name": "stdout",
     "output_type": "stream",
     "text": [
      "    Day Date Temperature Max Temperature Min\n",
      "0   12°   5°              31              8°\n",
      "1    1°    1             11°             -1°\n",
      "2     2  11°              0°               3\n",
      "3    8°   0°               4             11°\n",
      "4    1°    5             10°              3°\n",
      "5     6   7°              4°               7\n",
      "6   13°   2°               8              7°\n",
      "7   -2°    9              8°             -2°\n",
      "8    10   8°             -2°              11\n",
      "9    7°  -1°              12              6°\n",
      "10   1°   13             13°             -1°\n",
      "11   14  15°              1°              15\n",
      "12   9°   5°              16             19°\n",
      "13   4°   17              8°              4°\n",
      "14   18   9°              1°              19\n",
      "15  10°   1°              20             10°\n",
      "16   0°   21             11°              0°\n",
      "17   22  16°              1°              23\n",
      "18  11°   3°              24              7°\n",
      "19   2°   25             13°              4°\n",
      "20   26  11°              3°              27\n",
      "21  16°   6°              28             10°\n",
      "22   1°   29             11°              2°\n",
      "23   30   9°              1°              31\n",
      "24  12°   0°               1             12°\n",
      "25   2°    2             16°              4°\n",
      "26    3  12°              1°               4\n",
      "27  13°   1°               5             12°\n",
      "28   2°    6             15°              4°\n"
     ]
    }
   ],
   "source": [
    "#Place Scraped Data into DataFrame\n",
    "weather = pd.DataFrame(new_data, columns=[\"Day\", \"Date\",\"Temperature Max\", \"Temperature Min\"])\n",
    "\n",
    "#Print Results\n",
    "print(weather)"
   ]
  },
  {
   "cell_type": "code",
   "execution_count": 7,
   "metadata": {},
   "outputs": [],
   "source": [
    "#Save DataFrame as CSV\n",
    "weather.to_csv(r'C:\\Users\\Mickey\\Desktop\\Final_Project\\Output\\weather_scrape.csv', index = False)"
   ]
  },
  {
   "cell_type": "code",
   "execution_count": null,
   "metadata": {},
   "outputs": [],
   "source": []
  }
 ],
 "metadata": {
  "kernelspec": {
   "display_name": "Python 3",
   "language": "python",
   "name": "python3"
  },
  "language_info": {
   "codemirror_mode": {
    "name": "ipython",
    "version": 3
   },
   "file_extension": ".py",
   "mimetype": "text/x-python",
   "name": "python",
   "nbconvert_exporter": "python",
   "pygments_lexer": "ipython3",
   "version": "3.8.3"
  }
 },
 "nbformat": 4,
 "nbformat_minor": 4
}
