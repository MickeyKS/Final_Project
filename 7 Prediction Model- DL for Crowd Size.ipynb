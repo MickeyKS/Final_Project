{
 "cells": [
  {
   "cell_type": "markdown",
   "metadata": {},
   "source": [
    "#Prediction Model for Crowd Size [Disneyland]"
   ]
  },
  {
   "cell_type": "code",
   "execution_count": 1,
   "metadata": {},
   "outputs": [],
   "source": [
    "#Import Dependencies\n",
    "import pandas as pd\n",
    "import numpy as np\n",
    "import requests\n",
    "import io\n",
    "import os\n",
    "from sklearn import datasets, ensemble\n",
    "from sklearn import preprocessing\n",
    "from sklearn.model_selection import train_test_split\n",
    "from sklearn.linear_model import LogisticRegression"
   ]
  },
  {
   "cell_type": "code",
   "execution_count": 2,
   "metadata": {},
   "outputs": [
    {
     "data": {
      "text/html": [
       "<div>\n",
       "<style scoped>\n",
       "    .dataframe tbody tr th:only-of-type {\n",
       "        vertical-align: middle;\n",
       "    }\n",
       "\n",
       "    .dataframe tbody tr th {\n",
       "        vertical-align: top;\n",
       "    }\n",
       "\n",
       "    .dataframe thead th {\n",
       "        text-align: right;\n",
       "    }\n",
       "</style>\n",
       "<table border=\"1\" class=\"dataframe\">\n",
       "  <thead>\n",
       "    <tr style=\"text-align: right;\">\n",
       "      <th></th>\n",
       "      <th>Year</th>\n",
       "      <th>Crowd Size</th>\n",
       "      <th>Temperature Max</th>\n",
       "      <th>Hours Open</th>\n",
       "      <th>Public Holiday</th>\n",
       "      <th>School Holiday</th>\n",
       "      <th>Day of the Week</th>\n",
       "      <th>Day of the Year</th>\n",
       "      <th>Crowd Level</th>\n",
       "    </tr>\n",
       "  </thead>\n",
       "  <tbody>\n",
       "    <tr>\n",
       "      <th>0</th>\n",
       "      <td>2020</td>\n",
       "      <td>16</td>\n",
       "      <td>8</td>\n",
       "      <td>12</td>\n",
       "      <td>1</td>\n",
       "      <td>1</td>\n",
       "      <td>4</td>\n",
       "      <td>366</td>\n",
       "      <td>Vacant</td>\n",
       "    </tr>\n",
       "    <tr>\n",
       "      <th>1</th>\n",
       "      <td>2020</td>\n",
       "      <td>16</td>\n",
       "      <td>12</td>\n",
       "      <td>12</td>\n",
       "      <td>0</td>\n",
       "      <td>1</td>\n",
       "      <td>3</td>\n",
       "      <td>365</td>\n",
       "      <td>Vacant</td>\n",
       "    </tr>\n",
       "  </tbody>\n",
       "</table>\n",
       "</div>"
      ],
      "text/plain": [
       "   Year  Crowd Size  Temperature Max  Hours Open  Public Holiday  \\\n",
       "0  2020          16                8          12               1   \n",
       "1  2020          16               12          12               0   \n",
       "\n",
       "   School Holiday  Day of the Week  Day of the Year Crowd Level  \n",
       "0               1                4              366      Vacant  \n",
       "1               1                3              365      Vacant  "
      ]
     },
     "execution_count": 2,
     "metadata": {},
     "output_type": "execute_result"
    }
   ],
   "source": [
    "#Open CSV File\n",
    "input_data = pd.read_csv(os.path.join('Resources', 'final_dl_data.csv'))\n",
    "\n",
    "#Print DataFrame\n",
    "input_data.head(n=2)"
   ]
  },
  {
   "cell_type": "code",
   "execution_count": 3,
   "metadata": {},
   "outputs": [
    {
     "data": {
      "text/html": [
       "<div>\n",
       "<style scoped>\n",
       "    .dataframe tbody tr th:only-of-type {\n",
       "        vertical-align: middle;\n",
       "    }\n",
       "\n",
       "    .dataframe tbody tr th {\n",
       "        vertical-align: top;\n",
       "    }\n",
       "\n",
       "    .dataframe thead th {\n",
       "        text-align: right;\n",
       "    }\n",
       "</style>\n",
       "<table border=\"1\" class=\"dataframe\">\n",
       "  <thead>\n",
       "    <tr style=\"text-align: right;\">\n",
       "      <th></th>\n",
       "      <th>Temperature Max</th>\n",
       "      <th>Hours Open</th>\n",
       "      <th>Public Holiday</th>\n",
       "      <th>School Holiday</th>\n",
       "      <th>Day of the Week</th>\n",
       "    </tr>\n",
       "  </thead>\n",
       "  <tbody>\n",
       "    <tr>\n",
       "      <th>0</th>\n",
       "      <td>8</td>\n",
       "      <td>12</td>\n",
       "      <td>1</td>\n",
       "      <td>1</td>\n",
       "      <td>4</td>\n",
       "    </tr>\n",
       "    <tr>\n",
       "      <th>1</th>\n",
       "      <td>12</td>\n",
       "      <td>12</td>\n",
       "      <td>0</td>\n",
       "      <td>1</td>\n",
       "      <td>3</td>\n",
       "    </tr>\n",
       "  </tbody>\n",
       "</table>\n",
       "</div>"
      ],
      "text/plain": [
       "   Temperature Max  Hours Open  Public Holiday  School Holiday  \\\n",
       "0                8          12               1               1   \n",
       "1               12          12               0               1   \n",
       "\n",
       "   Day of the Week  \n",
       "0                4  \n",
       "1                3  "
      ]
     },
     "execution_count": 3,
     "metadata": {},
     "output_type": "execute_result"
    }
   ],
   "source": [
    "#Drop Unnecessary Columns\n",
    "cols = [column for column in input_data.columns if column not in ['Crowd Level', 'Crowd Size', 'Year', 'Day of the Year']]\n",
    "data = input_data[cols]\n",
    "\n",
    "#Assign for Target\n",
    "target = input_data['Crowd Size']\n",
    "\n",
    "#Print DataFrame\n",
    "data.head(n=2)"
   ]
  },
  {
   "cell_type": "code",
   "execution_count": 4,
   "metadata": {},
   "outputs": [],
   "source": [
    "#Split Dataset to begin Test/Train\n",
    "data_train, data_test, target_train, target_test = train_test_split(data, target, test_size = 0.10, random_state = 1)"
   ]
  },
  {
   "cell_type": "code",
   "execution_count": 5,
   "metadata": {},
   "outputs": [
    {
     "data": {
      "text/plain": [
       "LogisticRegression(max_iter=10000)"
      ]
     },
     "execution_count": 5,
     "metadata": {},
     "output_type": "execute_result"
    }
   ],
   "source": [
    "#Increase Max Iter\n",
    "classifier = LogisticRegression(max_iter = 10000)\n",
    "classifier.fit(data_train, target_train)"
   ]
  },
  {
   "cell_type": "code",
   "execution_count": 6,
   "metadata": {},
   "outputs": [
    {
     "name": "stdout",
     "output_type": "stream",
     "text": [
      "Training Data Score: 0.27433090024330903\n",
      "Testing Data Score: 0.2677595628415301\n"
     ]
    }
   ],
   "source": [
    "#Print Results\n",
    "print(f\"Training Data Score: {classifier.score(data_train, target_train)}\")\n",
    "print(f\"Testing Data Score: {classifier.score(data_test, target_test)}\")"
   ]
  },
  {
   "cell_type": "code",
   "execution_count": 7,
   "metadata": {},
   "outputs": [
    {
     "name": "stdout",
     "output_type": "stream",
     "text": [
      "First 25 Predictions: [ 0 44 16 16  0 38 36 27 16 16 36 38 30 44 46 27 16 22 27 16 55 22 58 44\n",
      " 22]\n",
      "First 25 Actual Test Data: [0, 37, 28, 16, 0, 63, 30, 33, 22, 22, 22, 45, 26, 42, 33, 26, 16, 22, 27, 16, 16, 37, 58, 69, 27]\n"
     ]
    }
   ],
   "source": [
    "#Print Results\n",
    "predictions = classifier.predict(data_test)\n",
    "print(f\"First 25 Predictions: {predictions[:25]}\")\n",
    "print(f\"First 25 Actual Test Data: {target_test[:25].tolist()}\")"
   ]
  },
  {
   "cell_type": "code",
   "execution_count": 8,
   "metadata": {},
   "outputs": [
    {
     "data": {
      "text/html": [
       "<div>\n",
       "<style scoped>\n",
       "    .dataframe tbody tr th:only-of-type {\n",
       "        vertical-align: middle;\n",
       "    }\n",
       "\n",
       "    .dataframe tbody tr th {\n",
       "        vertical-align: top;\n",
       "    }\n",
       "\n",
       "    .dataframe thead th {\n",
       "        text-align: right;\n",
       "    }\n",
       "</style>\n",
       "<table border=\"1\" class=\"dataframe\">\n",
       "  <thead>\n",
       "    <tr style=\"text-align: right;\">\n",
       "      <th></th>\n",
       "      <th>Date</th>\n",
       "      <th>Crowd Size</th>\n",
       "      <th>Temperature Max</th>\n",
       "      <th>Temperature Min</th>\n",
       "      <th>Hours Open</th>\n",
       "      <th>Public Holiday</th>\n",
       "      <th>School Holiday</th>\n",
       "      <th>Day of the Week</th>\n",
       "      <th>Day of the Year</th>\n",
       "      <th>Crowd Level</th>\n",
       "    </tr>\n",
       "  </thead>\n",
       "  <tbody>\n",
       "    <tr>\n",
       "      <th>0</th>\n",
       "      <td>1/01/2021</td>\n",
       "      <td>10000</td>\n",
       "      <td>11</td>\n",
       "      <td>-1</td>\n",
       "      <td>9</td>\n",
       "      <td>1</td>\n",
       "      <td>1</td>\n",
       "      <td>5</td>\n",
       "      <td>1</td>\n",
       "      <td>Vacant</td>\n",
       "    </tr>\n",
       "    <tr>\n",
       "      <th>1</th>\n",
       "      <td>2/01/2021</td>\n",
       "      <td>50000</td>\n",
       "      <td>11</td>\n",
       "      <td>0</td>\n",
       "      <td>14</td>\n",
       "      <td>1</td>\n",
       "      <td>1</td>\n",
       "      <td>6</td>\n",
       "      <td>2</td>\n",
       "      <td>Busy</td>\n",
       "    </tr>\n",
       "  </tbody>\n",
       "</table>\n",
       "</div>"
      ],
      "text/plain": [
       "        Date  Crowd Size  Temperature Max  Temperature Min  Hours Open  \\\n",
       "0  1/01/2021       10000               11               -1           9   \n",
       "1  2/01/2021       50000               11                0          14   \n",
       "\n",
       "   Public Holiday  School Holiday  Day of the Week  Day of the Year  \\\n",
       "0               1               1                5                1   \n",
       "1               1               1                6                2   \n",
       "\n",
       "  Crowd Level  \n",
       "0      Vacant  \n",
       "1        Busy  "
      ]
     },
     "execution_count": 8,
     "metadata": {},
     "output_type": "execute_result"
    }
   ],
   "source": [
    "#Open CSV File\n",
    "input_data = pd.read_csv(os.path.join('future_dl_data.csv'))\n",
    "\n",
    "#Print DataFrame\n",
    "input_data.head(n=2)"
   ]
  },
  {
   "cell_type": "code",
   "execution_count": 9,
   "metadata": {},
   "outputs": [
    {
     "data": {
      "text/html": [
       "<div>\n",
       "<style scoped>\n",
       "    .dataframe tbody tr th:only-of-type {\n",
       "        vertical-align: middle;\n",
       "    }\n",
       "\n",
       "    .dataframe tbody tr th {\n",
       "        vertical-align: top;\n",
       "    }\n",
       "\n",
       "    .dataframe thead th {\n",
       "        text-align: right;\n",
       "    }\n",
       "</style>\n",
       "<table border=\"1\" class=\"dataframe\">\n",
       "  <thead>\n",
       "    <tr style=\"text-align: right;\">\n",
       "      <th></th>\n",
       "      <th>Temperature Max</th>\n",
       "      <th>Hours Open</th>\n",
       "      <th>Public Holiday</th>\n",
       "      <th>School Holiday</th>\n",
       "      <th>Day of the Week</th>\n",
       "    </tr>\n",
       "  </thead>\n",
       "  <tbody>\n",
       "    <tr>\n",
       "      <th>0</th>\n",
       "      <td>11</td>\n",
       "      <td>9</td>\n",
       "      <td>1</td>\n",
       "      <td>1</td>\n",
       "      <td>5</td>\n",
       "    </tr>\n",
       "    <tr>\n",
       "      <th>1</th>\n",
       "      <td>11</td>\n",
       "      <td>14</td>\n",
       "      <td>1</td>\n",
       "      <td>1</td>\n",
       "      <td>6</td>\n",
       "    </tr>\n",
       "  </tbody>\n",
       "</table>\n",
       "</div>"
      ],
      "text/plain": [
       "   Temperature Max  Hours Open  Public Holiday  School Holiday  \\\n",
       "0               11           9               1               1   \n",
       "1               11          14               1               1   \n",
       "\n",
       "   Day of the Week  \n",
       "0                5  \n",
       "1                6  "
      ]
     },
     "execution_count": 9,
     "metadata": {},
     "output_type": "execute_result"
    }
   ],
   "source": [
    "#Drop Unnecessary Columns\n",
    "cols = [column for column in input_data.columns if column not in ['Crowd Level', 'Temperature Min', 'Date', 'Crowd Size', 'Year', 'Day of the Year']]\n",
    "data = input_data[cols]\n",
    "\n",
    "#Print DataFrame\n",
    "data.head(n=2)"
   ]
  },
  {
   "cell_type": "code",
   "execution_count": 10,
   "metadata": {},
   "outputs": [
    {
     "name": "stdout",
     "output_type": "stream",
     "text": [
      "First 365 Predictions:   [16 58 58 40 40 50 46 55 55 55 30 27 27 27 27 16 55 36 36 27 27 27 27 27\n",
      " 36 36 27 27 27 27 55 36 22 27 27 27 27 55 36 27 27 27 27 55 55 36 36 36\n",
      " 27 27 55 44 36 22 27 27 27 55 55 36 36 27 27 27 55 55 36 27 27 27 55 27\n",
      " 55 36 27 27 27 55 55 58  0 27 27 27 16 16 46 46 30 46 46 16 46 58 46 46\n",
      " 46 16 16 46 46 46 22 22 22 16 44 44 36 22 22 16 16 16 44 36 22 22 16 16\n",
      " 16 58 36 36 44 44 44 44 44 36 36 36 36 44 44 44 36 36 36 36 44 44 44 36\n",
      " 36 36 38 44 44 44 36 36 36 36 44 44 44 36 22 22 16 16 16 44 36 22 22 16\n",
      " 16 44 44 36 22 22 16 16 16 44 36 22 22 16 16 16 44 36 22 16 16 16 16 44\n",
      " 38 22 16 16 16 16 44 38 16 16 16 16 16 46 46 16 16 16 16 16 46 46 16 16\n",
      " 16 16 46 46 38 16 16 16 16 46 46 46 16 16 16 16 16 46 46 16 16 16 16 46\n",
      " 46 46 46 38 38 44 44 44 36 22 16 16 16 16 44 36 22 16 16 16 16 44 36 22\n",
      " 16 16 16 16 44 36 36 36 36 44 44 44 36 36 36 36 44 44 44 36 36 36 44 44\n",
      " 44 44 36 36 36 36 58 44 44 36 36 36 36 44 55 55 36 36 27 27 27 33 55 36\n",
      " 36 36 27 27 33 55 36 27 27 27 27 55 55 36 27 27 27 27 27 55 36 27 27 27\n",
      " 55 27 55 36 16 16 16 16 16 55 36 16 16 16 16 16 55 36 36 27 55 16 16 58\n",
      " 40 40 40 50 16]\n"
     ]
    }
   ],
   "source": [
    "#Print Results\n",
    "predictions = classifier.predict(data)\n",
    "print(f\"First 365 Predictions:   {predictions[:365]}\")"
   ]
  },
  {
   "cell_type": "code",
   "execution_count": 11,
   "metadata": {},
   "outputs": [],
   "source": [
    "#Save as DataFrame\n",
    "dl_predictions21 = pd.DataFrame(predictions, columns=[\"Crowd Size\"])"
   ]
  },
  {
   "cell_type": "code",
   "execution_count": 12,
   "metadata": {},
   "outputs": [],
   "source": [
    "#Save as CSV File\n",
    "#dl_predictions21.to_csv(r'C:\\Users\\Mickey\\Desktop\\Final_Project\\Output\\dl_predictions21.csv', index = False)"
   ]
  },
  {
   "cell_type": "code",
   "execution_count": null,
   "metadata": {},
   "outputs": [],
   "source": []
  }
 ],
 "metadata": {
  "kernelspec": {
   "display_name": "Python 3",
   "language": "python",
   "name": "python3"
  },
  "language_info": {
   "codemirror_mode": {
    "name": "ipython",
    "version": 3
   },
   "file_extension": ".py",
   "mimetype": "text/x-python",
   "name": "python",
   "nbconvert_exporter": "python",
   "pygments_lexer": "ipython3",
   "version": "3.8.3"
  }
 },
 "nbformat": 4,
 "nbformat_minor": 4
}
