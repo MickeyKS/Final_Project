{
 "cells": [
  {
   "cell_type": "markdown",
   "metadata": {},
   "source": [
    "5. Disneysea Prediction Model"
   ]
  },
  {
   "cell_type": "code",
   "execution_count": 1,
   "metadata": {},
   "outputs": [],
   "source": [
    "#Import Dependencies\n",
    "import pandas as pd\n",
    "import numpy as np\n",
    "import requests\n",
    "import io\n",
    "import os\n",
    "from sklearn import datasets, ensemble\n",
    "from sklearn import preprocessing\n",
    "from sklearn.model_selection import train_test_split\n",
    "from sklearn.linear_model import LogisticRegression\n",
    "from sklearn.ensemble import RandomForestRegressor\n",
    "from sklearn.preprocessing import StandardScaler\n",
    "from sklearn.metrics import mean_absolute_percentage_error\n",
    "from sklearn.metrics import mean_squared_error\n",
    "from sklearn.metrics import mean_absolute_error"
   ]
  },
  {
   "cell_type": "code",
   "execution_count": 2,
   "metadata": {},
   "outputs": [
    {
     "data": {
      "text/html": [
       "<div>\n",
       "<style scoped>\n",
       "    .dataframe tbody tr th:only-of-type {\n",
       "        vertical-align: middle;\n",
       "    }\n",
       "\n",
       "    .dataframe tbody tr th {\n",
       "        vertical-align: top;\n",
       "    }\n",
       "\n",
       "    .dataframe thead th {\n",
       "        text-align: right;\n",
       "    }\n",
       "</style>\n",
       "<table border=\"1\" class=\"dataframe\">\n",
       "  <thead>\n",
       "    <tr style=\"text-align: right;\">\n",
       "      <th></th>\n",
       "      <th>Year</th>\n",
       "      <th>Temperature Max</th>\n",
       "      <th>Hours Open</th>\n",
       "      <th>Public Holiday</th>\n",
       "      <th>School Holiday</th>\n",
       "      <th>Day of the Week</th>\n",
       "      <th>Day of the Year</th>\n",
       "      <th>Crowd Size</th>\n",
       "      <th>Crowd Level</th>\n",
       "    </tr>\n",
       "  </thead>\n",
       "  <tbody>\n",
       "    <tr>\n",
       "      <th>0</th>\n",
       "      <td>2019</td>\n",
       "      <td>13</td>\n",
       "      <td>9</td>\n",
       "      <td>1</td>\n",
       "      <td>1</td>\n",
       "      <td>2</td>\n",
       "      <td>365</td>\n",
       "      <td>40</td>\n",
       "      <td>3</td>\n",
       "    </tr>\n",
       "    <tr>\n",
       "      <th>1</th>\n",
       "      <td>2019</td>\n",
       "      <td>7</td>\n",
       "      <td>14</td>\n",
       "      <td>0</td>\n",
       "      <td>1</td>\n",
       "      <td>1</td>\n",
       "      <td>364</td>\n",
       "      <td>41</td>\n",
       "      <td>4</td>\n",
       "    </tr>\n",
       "    <tr>\n",
       "      <th>2</th>\n",
       "      <td>2019</td>\n",
       "      <td>11</td>\n",
       "      <td>14</td>\n",
       "      <td>0</td>\n",
       "      <td>1</td>\n",
       "      <td>7</td>\n",
       "      <td>363</td>\n",
       "      <td>28</td>\n",
       "      <td>2</td>\n",
       "    </tr>\n",
       "    <tr>\n",
       "      <th>3</th>\n",
       "      <td>2019</td>\n",
       "      <td>10</td>\n",
       "      <td>14</td>\n",
       "      <td>0</td>\n",
       "      <td>1</td>\n",
       "      <td>6</td>\n",
       "      <td>362</td>\n",
       "      <td>29</td>\n",
       "      <td>2</td>\n",
       "    </tr>\n",
       "    <tr>\n",
       "      <th>4</th>\n",
       "      <td>2019</td>\n",
       "      <td>14</td>\n",
       "      <td>14</td>\n",
       "      <td>0</td>\n",
       "      <td>1</td>\n",
       "      <td>5</td>\n",
       "      <td>361</td>\n",
       "      <td>28</td>\n",
       "      <td>2</td>\n",
       "    </tr>\n",
       "  </tbody>\n",
       "</table>\n",
       "</div>"
      ],
      "text/plain": [
       "   Year  Temperature Max  Hours Open  Public Holiday  School Holiday  \\\n",
       "0  2019               13           9               1               1   \n",
       "1  2019                7          14               0               1   \n",
       "2  2019               11          14               0               1   \n",
       "3  2019               10          14               0               1   \n",
       "4  2019               14          14               0               1   \n",
       "\n",
       "   Day of the Week  Day of the Year  Crowd Size  Crowd Level  \n",
       "0                2              365          40            3  \n",
       "1                1              364          41            4  \n",
       "2                7              363          28            2  \n",
       "3                6              362          29            2  \n",
       "4                5              361          28            2  "
      ]
     },
     "execution_count": 2,
     "metadata": {},
     "output_type": "execute_result"
    }
   ],
   "source": [
    "#Open CSV File\n",
    "input_data = pd.read_csv(os.path.join('Resources', 'final_ds-2020_data.csv'))\n",
    "\n",
    "#Print DataFrame\n",
    "input_data.head()"
   ]
  },
  {
   "cell_type": "code",
   "execution_count": 3,
   "metadata": {},
   "outputs": [
    {
     "data": {
      "text/html": [
       "<div>\n",
       "<style scoped>\n",
       "    .dataframe tbody tr th:only-of-type {\n",
       "        vertical-align: middle;\n",
       "    }\n",
       "\n",
       "    .dataframe tbody tr th {\n",
       "        vertical-align: top;\n",
       "    }\n",
       "\n",
       "    .dataframe thead th {\n",
       "        text-align: right;\n",
       "    }\n",
       "</style>\n",
       "<table border=\"1\" class=\"dataframe\">\n",
       "  <thead>\n",
       "    <tr style=\"text-align: right;\">\n",
       "      <th></th>\n",
       "      <th>Temperature Max</th>\n",
       "      <th>Hours Open</th>\n",
       "      <th>Public Holiday</th>\n",
       "      <th>School Holiday</th>\n",
       "      <th>Day of the Week</th>\n",
       "      <th>Day of the Year</th>\n",
       "      <th>Crowd Level</th>\n",
       "    </tr>\n",
       "  </thead>\n",
       "  <tbody>\n",
       "    <tr>\n",
       "      <th>0</th>\n",
       "      <td>13</td>\n",
       "      <td>9</td>\n",
       "      <td>1</td>\n",
       "      <td>1</td>\n",
       "      <td>2</td>\n",
       "      <td>365</td>\n",
       "      <td>3</td>\n",
       "    </tr>\n",
       "    <tr>\n",
       "      <th>1</th>\n",
       "      <td>7</td>\n",
       "      <td>14</td>\n",
       "      <td>0</td>\n",
       "      <td>1</td>\n",
       "      <td>1</td>\n",
       "      <td>364</td>\n",
       "      <td>4</td>\n",
       "    </tr>\n",
       "  </tbody>\n",
       "</table>\n",
       "</div>"
      ],
      "text/plain": [
       "   Temperature Max  Hours Open  Public Holiday  School Holiday  \\\n",
       "0               13           9               1               1   \n",
       "1                7          14               0               1   \n",
       "\n",
       "   Day of the Week  Day of the Year  Crowd Level  \n",
       "0                2              365            3  \n",
       "1                1              364            4  "
      ]
     },
     "execution_count": 3,
     "metadata": {},
     "output_type": "execute_result"
    }
   ],
   "source": [
    "#Drop Unnecessary Columns\n",
    "cols = [column for column in input_data.columns if column not in ['Year','Crowd Size']]\n",
    "data = input_data[cols]\n",
    "\n",
    "#Assign for Target\n",
    "target = input_data['Crowd Size']\n",
    "\n",
    "#Print DataFrame\n",
    "data.head(n=2)"
   ]
  },
  {
   "cell_type": "code",
   "execution_count": 4,
   "metadata": {},
   "outputs": [],
   "source": [
    "#Scale Data\n",
    "scaler = StandardScaler()\n",
    "new_data = scaler.fit_transform(data)"
   ]
  },
  {
   "cell_type": "code",
   "execution_count": 5,
   "metadata": {},
   "outputs": [],
   "source": [
    "#Split Dataset to Begin Test/Train\n",
    "data_train, data_test, target_train, target_test = train_test_split(new_data, target, test_size = 0.25, random_state = 1)"
   ]
  },
  {
   "cell_type": "code",
   "execution_count": 6,
   "metadata": {},
   "outputs": [
    {
     "data": {
      "text/plain": [
       "RandomForestRegressor(random_state=0)"
      ]
     },
     "execution_count": 6,
     "metadata": {},
     "output_type": "execute_result"
    }
   ],
   "source": [
    "#Fit into RandomForestRegressor\n",
    "regr = RandomForestRegressor(random_state=0)\n",
    "regr.fit(data_train, target_train)"
   ]
  },
  {
   "cell_type": "code",
   "execution_count": 7,
   "metadata": {},
   "outputs": [],
   "source": [
    "#Run RandomForestRegressor\n",
    "prediction = regr.predict(data_test)"
   ]
  },
  {
   "cell_type": "code",
   "execution_count": 8,
   "metadata": {},
   "outputs": [
    {
     "data": {
      "text/plain": [
       "1374    47\n",
       "885     26\n",
       "414     43\n",
       "1003    40\n",
       "201     18\n",
       "        ..\n",
       "35      22\n",
       "1430    30\n",
       "503     37\n",
       "702     29\n",
       "599     24\n",
       "Name: Crowd Size, Length: 366, dtype: int64"
      ]
     },
     "execution_count": 8,
     "metadata": {},
     "output_type": "execute_result"
    }
   ],
   "source": [
    "#Run Target Test\n",
    "target_test"
   ]
  },
  {
   "cell_type": "code",
   "execution_count": 9,
   "metadata": {},
   "outputs": [
    {
     "data": {
      "text/plain": [
       "array([44.98, 26.26, 46.12, 37.83, 16.83, 37.09, 23.66, 44.05, 23.41,\n",
       "       54.45, 16.12, 33.53, 17.73, 22.34, 22.1 , 14.25, 36.11, 51.71,\n",
       "       16.54, 52.2 , 36.47, 19.34, 24.98, 13.81, 38.5 , 32.48, 34.03,\n",
       "       45.06, 36.85, 24.78, 25.89, 27.45, 24.69, 17.  , 14.17, 13.94,\n",
       "       23.57, 16.66, 23.68, 32.04, 16.6 , 34.69, 55.07, 42.77, 36.44,\n",
       "       17.98, 24.24, 32.45, 15.21, 33.16, 36.01, 44.48, 38.93, 33.09,\n",
       "       32.29, 44.18, 34.52, 22.46, 45.  , 24.02, 16.32, 23.9 , 26.75,\n",
       "       32.79, 21.98, 39.5 , 44.04, 23.7 , 26.72, 34.9 , 25.69, 18.53,\n",
       "       22.91, 24.76, 44.61, 26.47, 27.31, 46.93, 32.8 , 36.06, 18.94,\n",
       "       15.01, 43.51, 43.4 , 25.75, 17.82, 36.23, 24.06, 16.77, 44.23,\n",
       "       25.49, 32.67, 26.31, 35.99, 55.29, 31.59, 15.04, 35.53, 37.71,\n",
       "       33.96, 46.36, 18.47, 16.09, 22.08, 27.26, 24.17, 23.83, 25.85,\n",
       "       24.08, 46.01, 52.16, 44.48, 16.82, 27.82, 31.93, 32.64, 33.61,\n",
       "       25.08, 17.6 , 25.09, 24.85, 37.  , 44.35, 35.23, 26.58, 33.52,\n",
       "       17.09, 44.98, 23.48, 24.07, 25.55, 24.32, 46.94, 46.33, 33.86,\n",
       "       14.32, 16.88, 37.53, 27.05, 52.79, 46.82, 35.58, 46.5 , 26.95,\n",
       "       32.92, 24.8 , 46.61, 27.56, 36.22, 53.62, 33.09, 33.45, 35.41,\n",
       "       26.4 , 34.36, 13.91, 32.45, 26.22, 25.84, 38.78, 27.69, 28.88,\n",
       "       36.97, 18.62, 28.76, 24.33, 14.7 , 42.05, 34.28, 15.09, 44.12,\n",
       "       16.52, 36.98, 24.8 , 33.28, 23.61, 45.15, 46.3 , 25.98, 33.47,\n",
       "       42.8 , 45.25, 15.16, 34.98, 37.01, 16.09, 36.88, 25.43, 54.72,\n",
       "       21.98, 14.34, 37.87, 33.46, 26.06, 13.03, 24.48, 17.3 , 15.65,\n",
       "       53.6 , 36.99, 32.22, 26.85, 36.97, 37.71, 23.59, 32.39, 46.08,\n",
       "       35.69, 32.23, 34.05, 14.23, 32.12, 27.39, 44.07, 52.87, 34.82,\n",
       "       32.21, 35.16, 16.29, 37.74, 46.71, 24.37, 27.8 , 24.44, 26.21,\n",
       "       17.02, 35.31, 54.99, 23.36, 13.49, 55.1 , 27.59, 46.33, 12.48,\n",
       "       16.86, 33.91, 38.25, 45.58, 26.54, 14.56, 17.15, 46.08, 33.16,\n",
       "       34.07, 14.36, 14.08, 36.54, 26.03, 34.21, 32.38, 36.01, 32.18,\n",
       "       32.25, 27.35, 32.96, 35.58, 37.49, 46.54, 26.01, 13.21, 26.17,\n",
       "       33.76, 32.33, 25.92, 26.3 , 33.64, 15.23, 25.19, 25.89, 26.24,\n",
       "       18.19, 17.16, 16.9 , 46.55, 17.85, 32.87, 31.87, 28.41, 23.65,\n",
       "       22.65, 26.05, 44.67, 48.73, 21.86, 32.39, 37.33, 44.17, 37.54,\n",
       "       27.22, 32.83, 34.39, 17.4 , 34.29, 35.54, 16.46, 26.35, 45.12,\n",
       "       54.16, 29.7 , 36.33, 35.41, 27.54, 18.11, 46.09, 16.35, 33.6 ,\n",
       "       21.67, 47.76, 14.97, 37.17, 37.04, 27.07, 46.94, 35.08, 28.57,\n",
       "       17.29, 14.59, 28.13, 26.1 , 32.14, 24.24, 34.69, 17.94, 25.77,\n",
       "       31.47, 17.19, 27.1 , 45.97, 24.61, 33.06, 24.62, 26.37, 32.35,\n",
       "       36.42, 31.31, 22.92, 36.63, 23.93, 34.39, 23.57, 26.58, 26.59,\n",
       "       34.22, 37.41, 44.02, 46.35, 24.02, 37.53, 26.49, 25.08, 47.19,\n",
       "       46.13, 35.55, 32.34, 17.42, 23.61, 26.06, 36.26, 24.9 , 33.27,\n",
       "       36.53, 23.3 , 28.79, 36.77, 29.16, 23.44])"
      ]
     },
     "execution_count": 9,
     "metadata": {},
     "output_type": "execute_result"
    }
   ],
   "source": [
    "#Run Prediction\n",
    "prediction"
   ]
  },
  {
   "cell_type": "code",
   "execution_count": 10,
   "metadata": {},
   "outputs": [
    {
     "data": {
      "text/plain": [
       "6.952334972677596"
      ]
     },
     "execution_count": 10,
     "metadata": {},
     "output_type": "execute_result"
    }
   ],
   "source": [
    "#Print Mean Squared Error\n",
    "mean_squared_error(target_test, prediction)"
   ]
  },
  {
   "cell_type": "code",
   "execution_count": 11,
   "metadata": {},
   "outputs": [
    {
     "data": {
      "text/plain": [
       "1.9953005464480873"
      ]
     },
     "execution_count": 11,
     "metadata": {},
     "output_type": "execute_result"
    }
   ],
   "source": [
    "#Print Mean Absolute Error\n",
    "mean_absolute_error(target_test, prediction)"
   ]
  },
  {
   "cell_type": "code",
   "execution_count": 12,
   "metadata": {},
   "outputs": [],
   "source": [
    "#Save as DataFrame\n",
    "ds_predictions21 = pd.DataFrame(prediction, columns=[\"Crowd Size\"])"
   ]
  },
  {
   "cell_type": "code",
   "execution_count": 14,
   "metadata": {},
   "outputs": [],
   "source": [
    "#Save as CSV File\n",
    "ds_predictions21.to_csv(r'C:\\Users\\Mickey\\Desktop\\Final_Project\\Output\\ds_predictions21.csv', index = False)"
   ]
  },
  {
   "cell_type": "code",
   "execution_count": null,
   "metadata": {},
   "outputs": [],
   "source": []
  }
 ],
 "metadata": {
  "kernelspec": {
   "display_name": "Python 3",
   "language": "python",
   "name": "python3"
  },
  "language_info": {
   "codemirror_mode": {
    "name": "ipython",
    "version": 3
   },
   "file_extension": ".py",
   "mimetype": "text/x-python",
   "name": "python",
   "nbconvert_exporter": "python",
   "pygments_lexer": "ipython3",
   "version": "3.8.3"
  }
 },
 "nbformat": 4,
 "nbformat_minor": 4
}
