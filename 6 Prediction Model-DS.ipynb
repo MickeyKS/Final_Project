{
 "cells": [
  {
   "cell_type": "markdown",
   "metadata": {},
   "source": [
    "#Prediction Model [Disneysea]"
   ]
  },
  {
   "cell_type": "code",
   "execution_count": 12,
   "metadata": {},
   "outputs": [],
   "source": [
    "#Import Dependencies\n",
    "import pandas as pd\n",
    "import numpy as np\n",
    "import requests\n",
    "import io\n",
    "import os\n",
    "from sklearn import datasets, ensemble\n",
    "from sklearn.inspection import permutation_importance\n",
    "from sklearn import preprocessing\n",
    "from sklearn.model_selection import train_test_split\n",
    "from sklearn.linear_model import LogisticRegression"
   ]
  },
  {
   "cell_type": "code",
   "execution_count": 13,
   "metadata": {},
   "outputs": [
    {
     "data": {
      "text/html": [
       "<div>\n",
       "<style scoped>\n",
       "    .dataframe tbody tr th:only-of-type {\n",
       "        vertical-align: middle;\n",
       "    }\n",
       "\n",
       "    .dataframe tbody tr th {\n",
       "        vertical-align: top;\n",
       "    }\n",
       "\n",
       "    .dataframe thead th {\n",
       "        text-align: right;\n",
       "    }\n",
       "</style>\n",
       "<table border=\"1\" class=\"dataframe\">\n",
       "  <thead>\n",
       "    <tr style=\"text-align: right;\">\n",
       "      <th></th>\n",
       "      <th>Year</th>\n",
       "      <th>Crowd Size</th>\n",
       "      <th>Temperature Max</th>\n",
       "      <th>Hours Open</th>\n",
       "      <th>Public Holiday</th>\n",
       "      <th>School Holiday</th>\n",
       "      <th>Day of the Week</th>\n",
       "      <th>Day of the Year</th>\n",
       "      <th>Crowd Level</th>\n",
       "    </tr>\n",
       "  </thead>\n",
       "  <tbody>\n",
       "    <tr>\n",
       "      <th>0</th>\n",
       "      <td>2020</td>\n",
       "      <td>16</td>\n",
       "      <td>8</td>\n",
       "      <td>12</td>\n",
       "      <td>1</td>\n",
       "      <td>1</td>\n",
       "      <td>4</td>\n",
       "      <td>366</td>\n",
       "      <td>Vacant</td>\n",
       "    </tr>\n",
       "    <tr>\n",
       "      <th>1</th>\n",
       "      <td>2020</td>\n",
       "      <td>16</td>\n",
       "      <td>12</td>\n",
       "      <td>12</td>\n",
       "      <td>0</td>\n",
       "      <td>1</td>\n",
       "      <td>3</td>\n",
       "      <td>365</td>\n",
       "      <td>Vacant</td>\n",
       "    </tr>\n",
       "  </tbody>\n",
       "</table>\n",
       "</div>"
      ],
      "text/plain": [
       "   Year  Crowd Size  Temperature Max  Hours Open  Public Holiday  \\\n",
       "0  2020          16                8          12               1   \n",
       "1  2020          16               12          12               0   \n",
       "\n",
       "   School Holiday  Day of the Week  Day of the Year Crowd Level  \n",
       "0               1                4              366      Vacant  \n",
       "1               1                3              365      Vacant  "
      ]
     },
     "execution_count": 13,
     "metadata": {},
     "output_type": "execute_result"
    }
   ],
   "source": [
    "#Open CSV File\n",
    "input_data = pd.read_csv(os.path.join('Resources', 'final_ds_data.csv'))\n",
    "\n",
    "#Print DataFrame\n",
    "input_data.head(n=2)"
   ]
  },
  {
   "cell_type": "code",
   "execution_count": 15,
   "metadata": {},
   "outputs": [
    {
     "data": {
      "text/html": [
       "<div>\n",
       "<style scoped>\n",
       "    .dataframe tbody tr th:only-of-type {\n",
       "        vertical-align: middle;\n",
       "    }\n",
       "\n",
       "    .dataframe tbody tr th {\n",
       "        vertical-align: top;\n",
       "    }\n",
       "\n",
       "    .dataframe thead th {\n",
       "        text-align: right;\n",
       "    }\n",
       "</style>\n",
       "<table border=\"1\" class=\"dataframe\">\n",
       "  <thead>\n",
       "    <tr style=\"text-align: right;\">\n",
       "      <th></th>\n",
       "      <th>Temperature Max</th>\n",
       "      <th>Hours Open</th>\n",
       "      <th>Public Holiday</th>\n",
       "      <th>School Holiday</th>\n",
       "      <th>Day of the Week</th>\n",
       "    </tr>\n",
       "  </thead>\n",
       "  <tbody>\n",
       "    <tr>\n",
       "      <th>0</th>\n",
       "      <td>8</td>\n",
       "      <td>12</td>\n",
       "      <td>1</td>\n",
       "      <td>1</td>\n",
       "      <td>4</td>\n",
       "    </tr>\n",
       "    <tr>\n",
       "      <th>1</th>\n",
       "      <td>12</td>\n",
       "      <td>12</td>\n",
       "      <td>0</td>\n",
       "      <td>1</td>\n",
       "      <td>3</td>\n",
       "    </tr>\n",
       "  </tbody>\n",
       "</table>\n",
       "</div>"
      ],
      "text/plain": [
       "   Temperature Max  Hours Open  Public Holiday  School Holiday  \\\n",
       "0                8          12               1               1   \n",
       "1               12          12               0               1   \n",
       "\n",
       "   Day of the Week  \n",
       "0                4  \n",
       "1                3  "
      ]
     },
     "execution_count": 15,
     "metadata": {},
     "output_type": "execute_result"
    }
   ],
   "source": [
    "#Drop Unnecessary Columns\n",
    "cols = [column for column in input_data.columns if column not in ['Crowd Level', 'Crowd Size', 'Year', 'Day of the Year']]\n",
    "data = input_data[cols]\n",
    "\n",
    "#Assign for Target\n",
    "target = input_data['Crowd Level']\n",
    "\n",
    "#Print DataFrame\n",
    "data.head(n=2)"
   ]
  },
  {
   "cell_type": "code",
   "execution_count": 16,
   "metadata": {},
   "outputs": [],
   "source": [
    "#Split Dataset to begin Test/Train\n",
    "data_train, data_test, target_train, target_test = train_test_split(data, target, test_size = 0.20, random_state = 0)"
   ]
  },
  {
   "cell_type": "code",
   "execution_count": 17,
   "metadata": {},
   "outputs": [
    {
     "data": {
      "text/plain": [
       "LogisticRegression(max_iter=10000)"
      ]
     },
     "execution_count": 17,
     "metadata": {},
     "output_type": "execute_result"
    }
   ],
   "source": [
    "#Increase Max Iter\n",
    "classifier = LogisticRegression(max_iter = 10000)\n",
    "classifier.fit(data_train, target_train)"
   ]
  },
  {
   "cell_type": "code",
   "execution_count": 18,
   "metadata": {},
   "outputs": [
    {
     "name": "stdout",
     "output_type": "stream",
     "text": [
      "Training Data Score: 0.4948665297741273\n",
      "Testing Data Score: 0.4890710382513661\n"
     ]
    }
   ],
   "source": [
    "#Print Results\n",
    "print(f\"Training Data Score: {classifier.score(data_train, target_train)}\")\n",
    "print(f\"Testing Data Score: {classifier.score(data_test, target_test)}\")"
   ]
  },
  {
   "cell_type": "code",
   "execution_count": 19,
   "metadata": {},
   "outputs": [
    {
     "name": "stdout",
     "output_type": "stream",
     "text": [
      "First 25 Predictions: ['Closed' 'Crowded' 'Closed' 'Crowded' 'Quite Vacant' 'Crowded' 'Closed'\n",
      " 'Crowded' 'Quite Vacant' 'Quite Vacant' 'Crowded' 'Vacant' 'Crowded'\n",
      " 'Vacant' 'Crowded' 'Quite Vacant' 'Vacant' 'Quite Vacant' 'Quite Vacant'\n",
      " 'Vacant' 'Crowded' 'Quite Vacant' 'Crowded' 'Vacant' 'Quite Crowded']\n",
      "First 25 Actual Test Data: ['Closed', 'Quite Crowded', 'Closed', 'Crowded', 'Quite Vacant', 'Quite Vacant', 'Closed', 'Quite Vacant', 'Vacant', 'Crowded', 'Quite Vacant', 'Vacant', 'Crowded', 'Vacant', 'Quite Vacant', 'Vacant', 'Crowded', 'Crowded', 'Quite Vacant', 'Vacant', 'Crowded', 'Vacant', 'Quite Crowded', 'Quite Vacant', 'Quite Crowded']\n"
     ]
    }
   ],
   "source": [
    "#Print Results\n",
    "predictions = classifier.predict(data_test)\n",
    "print(f\"First 25 Predictions: {predictions[:25]}\")\n",
    "print(f\"First 25 Actual Test Data: {target_test[:25].tolist()}\")"
   ]
  },
  {
   "cell_type": "code",
   "execution_count": 20,
   "metadata": {},
   "outputs": [
    {
     "data": {
      "text/html": [
       "<div>\n",
       "<style scoped>\n",
       "    .dataframe tbody tr th:only-of-type {\n",
       "        vertical-align: middle;\n",
       "    }\n",
       "\n",
       "    .dataframe tbody tr th {\n",
       "        vertical-align: top;\n",
       "    }\n",
       "\n",
       "    .dataframe thead th {\n",
       "        text-align: right;\n",
       "    }\n",
       "</style>\n",
       "<table border=\"1\" class=\"dataframe\">\n",
       "  <thead>\n",
       "    <tr style=\"text-align: right;\">\n",
       "      <th></th>\n",
       "      <th>Date</th>\n",
       "      <th>Crowd Size</th>\n",
       "      <th>Temperature Max</th>\n",
       "      <th>Hours Open</th>\n",
       "      <th>Public Holiday</th>\n",
       "      <th>School Holiday</th>\n",
       "      <th>Day of the Week</th>\n",
       "      <th>Day of the Year</th>\n",
       "      <th>Crowd Level</th>\n",
       "    </tr>\n",
       "  </thead>\n",
       "  <tbody>\n",
       "    <tr>\n",
       "      <th>0</th>\n",
       "      <td>1/01/2021</td>\n",
       "      <td>NaN</td>\n",
       "      <td>11</td>\n",
       "      <td>9</td>\n",
       "      <td>1</td>\n",
       "      <td>1</td>\n",
       "      <td>5</td>\n",
       "      <td>1</td>\n",
       "      <td>Vacant</td>\n",
       "    </tr>\n",
       "    <tr>\n",
       "      <th>1</th>\n",
       "      <td>2/01/2021</td>\n",
       "      <td>NaN</td>\n",
       "      <td>11</td>\n",
       "      <td>14</td>\n",
       "      <td>1</td>\n",
       "      <td>1</td>\n",
       "      <td>6</td>\n",
       "      <td>2</td>\n",
       "      <td>Busy</td>\n",
       "    </tr>\n",
       "  </tbody>\n",
       "</table>\n",
       "</div>"
      ],
      "text/plain": [
       "        Date  Crowd Size  Temperature Max  Hours Open  Public Holiday  \\\n",
       "0  1/01/2021         NaN               11           9               1   \n",
       "1  2/01/2021         NaN               11          14               1   \n",
       "\n",
       "   School Holiday  Day of the Week  Day of the Year Crowd Level  \n",
       "0               1                5                1      Vacant  \n",
       "1               1                6                2        Busy  "
      ]
     },
     "execution_count": 20,
     "metadata": {},
     "output_type": "execute_result"
    }
   ],
   "source": [
    "#Open CSV File\n",
    "input_data = pd.read_csv(os.path.join('Resources', 'future_ds_data.csv'))\n",
    "\n",
    "#Print DataFrame\n",
    "input_data.head(n=2)"
   ]
  },
  {
   "cell_type": "code",
   "execution_count": 21,
   "metadata": {},
   "outputs": [
    {
     "data": {
      "text/html": [
       "<div>\n",
       "<style scoped>\n",
       "    .dataframe tbody tr th:only-of-type {\n",
       "        vertical-align: middle;\n",
       "    }\n",
       "\n",
       "    .dataframe tbody tr th {\n",
       "        vertical-align: top;\n",
       "    }\n",
       "\n",
       "    .dataframe thead th {\n",
       "        text-align: right;\n",
       "    }\n",
       "</style>\n",
       "<table border=\"1\" class=\"dataframe\">\n",
       "  <thead>\n",
       "    <tr style=\"text-align: right;\">\n",
       "      <th></th>\n",
       "      <th>Temperature Max</th>\n",
       "      <th>Hours Open</th>\n",
       "      <th>Public Holiday</th>\n",
       "      <th>School Holiday</th>\n",
       "      <th>Day of the Week</th>\n",
       "    </tr>\n",
       "  </thead>\n",
       "  <tbody>\n",
       "    <tr>\n",
       "      <th>0</th>\n",
       "      <td>11</td>\n",
       "      <td>9</td>\n",
       "      <td>1</td>\n",
       "      <td>1</td>\n",
       "      <td>5</td>\n",
       "    </tr>\n",
       "    <tr>\n",
       "      <th>1</th>\n",
       "      <td>11</td>\n",
       "      <td>14</td>\n",
       "      <td>1</td>\n",
       "      <td>1</td>\n",
       "      <td>6</td>\n",
       "    </tr>\n",
       "  </tbody>\n",
       "</table>\n",
       "</div>"
      ],
      "text/plain": [
       "   Temperature Max  Hours Open  Public Holiday  School Holiday  \\\n",
       "0               11           9               1               1   \n",
       "1               11          14               1               1   \n",
       "\n",
       "   Day of the Week  \n",
       "0                5  \n",
       "1                6  "
      ]
     },
     "execution_count": 21,
     "metadata": {},
     "output_type": "execute_result"
    }
   ],
   "source": [
    "#Drop Unnecessary Columns\n",
    "cols = [column for column in input_data.columns if column not in ['Crowd Level', 'Date', 'Crowd Size', 'Year', 'Day of the Year']]\n",
    "data = input_data[cols]\n",
    "\n",
    "#Print DataFrame\n",
    "data.head(n=2)"
   ]
  },
  {
   "cell_type": "code",
   "execution_count": 22,
   "metadata": {},
   "outputs": [
    {
     "name": "stdout",
     "output_type": "stream",
     "text": [
      "First 365 Predictions:   ['Vacant' 'Quite Crowded' 'Quite Crowded' 'Crowded' 'Crowded' 'Crowded'\n",
      " 'Crowded' 'Crowded' 'Quite Crowded' 'Quite Crowded' 'Quite Vacant'\n",
      " 'Quite Vacant' 'Quite Vacant' 'Crowded' 'Quite Vacant' 'Quite Vacant'\n",
      " 'Quite Crowded' 'Quite Vacant' 'Quite Vacant' 'Quite Vacant'\n",
      " 'Quite Vacant' 'Quite Vacant' 'Quite Vacant' 'Quite Vacant'\n",
      " 'Quite Vacant' 'Quite Vacant' 'Quite Vacant' 'Quite Vacant'\n",
      " 'Quite Vacant' 'Quite Vacant' 'Crowded' 'Quite Vacant' 'Vacant'\n",
      " 'Quite Vacant' 'Quite Vacant' 'Quite Vacant' 'Quite Vacant' 'Crowded'\n",
      " 'Quite Vacant' 'Quite Vacant' 'Quite Vacant' 'Crowded' 'Quite Vacant'\n",
      " 'Crowded' 'Crowded' 'Quite Vacant' 'Quite Vacant' 'Crowded'\n",
      " 'Quite Vacant' 'Quite Vacant' 'Crowded' 'Crowded' 'Quite Vacant' 'Vacant'\n",
      " 'Quite Vacant' 'Quite Vacant' 'Quite Vacant' 'Crowded' 'Crowded'\n",
      " 'Quite Vacant' 'Quite Vacant' 'Quite Vacant' 'Quite Vacant'\n",
      " 'Quite Vacant' 'Crowded' 'Crowded' 'Quite Vacant' 'Vacant' 'Quite Vacant'\n",
      " 'Quite Vacant' 'Crowded' 'Quite Vacant' 'Crowded' 'Quite Vacant'\n",
      " 'Quite Vacant' 'Quite Vacant' 'Quite Vacant' 'Crowded' 'Crowded'\n",
      " 'Quite Crowded' 'Closed' 'Quite Vacant' 'Quite Vacant' 'Quite Vacant'\n",
      " 'Quite Vacant' 'Crowded' 'Crowded' 'Crowded' 'Quite Vacant'\n",
      " 'Quite Vacant' 'Quite Vacant' 'Quite Vacant' 'Crowded' 'Crowded'\n",
      " 'Crowded' 'Quite Vacant' 'Quite Vacant' 'Quite Vacant' 'Quite Vacant'\n",
      " 'Crowded' 'Crowded' 'Crowded' 'Vacant' 'Vacant' 'Quite Vacant'\n",
      " 'Quite Vacant' 'Crowded' 'Crowded' 'Quite Vacant' 'Vacant' 'Vacant'\n",
      " 'Vacant' 'Vacant' 'Quite Vacant' 'Crowded' 'Quite Vacant' 'Vacant'\n",
      " 'Vacant' 'Crowded' 'Crowded' 'Crowded' 'Quite Crowded' 'Crowded'\n",
      " 'Quite Crowded' 'Quite Crowded' 'Quite Crowded' 'Crowded' 'Crowded'\n",
      " 'Crowded' 'Quite Vacant' 'Quite Vacant' 'Quite Vacant' 'Quite Vacant'\n",
      " 'Crowded' 'Crowded' 'Crowded' 'Quite Vacant' 'Quite Vacant'\n",
      " 'Quite Vacant' 'Crowded' 'Crowded' 'Crowded' 'Crowded' 'Quite Vacant'\n",
      " 'Quite Vacant' 'Quite Vacant' 'Quite Vacant' 'Crowded' 'Crowded'\n",
      " 'Crowded' 'Quite Vacant' 'Quite Vacant' 'Quite Vacant' 'Crowded'\n",
      " 'Crowded' 'Crowded' 'Crowded' 'Quite Vacant' 'Vacant' 'Vacant' 'Vacant'\n",
      " 'Vacant' 'Vacant' 'Crowded' 'Quite Vacant' 'Vacant' 'Vacant' 'Vacant'\n",
      " 'Vacant' 'Crowded' 'Crowded' 'Quite Vacant' 'Vacant' 'Vacant' 'Vacant'\n",
      " 'Vacant' 'Vacant' 'Crowded' 'Quite Vacant' 'Vacant' 'Vacant' 'Vacant'\n",
      " 'Vacant' 'Vacant' 'Crowded' 'Quite Vacant' 'Vacant' 'Vacant' 'Vacant'\n",
      " 'Vacant' 'Vacant' 'Crowded' 'Quite Vacant' 'Vacant' 'Vacant' 'Vacant'\n",
      " 'Vacant' 'Vacant' 'Crowded' 'Quite Vacant' 'Vacant' 'Vacant'\n",
      " 'Quite Vacant' 'Quite Vacant' 'Quite Vacant' 'Crowded' 'Crowded' 'Vacant'\n",
      " 'Vacant' 'Quite Vacant' 'Quite Vacant' 'Quite Vacant' 'Crowded' 'Crowded'\n",
      " 'Vacant' 'Vacant' 'Quite Vacant' 'Crowded' 'Crowded' 'Crowded' 'Crowded'\n",
      " 'Vacant' 'Crowded' 'Crowded' 'Quite Vacant' 'Crowded' 'Crowded' 'Crowded'\n",
      " 'Vacant' 'Vacant' 'Vacant' 'Quite Vacant' 'Quite Vacant' 'Crowded'\n",
      " 'Crowded' 'Vacant' 'Vacant' 'Quite Vacant' 'Quite Vacant' 'Crowded'\n",
      " 'Crowded' 'Crowded' 'Crowded' 'Quite Vacant' 'Quite Vacant' 'Crowded'\n",
      " 'Crowded' 'Crowded' 'Quite Vacant' 'Vacant' 'Vacant' 'Vacant' 'Vacant'\n",
      " 'Vacant' 'Crowded' 'Quite Vacant' 'Vacant' 'Vacant' 'Vacant' 'Vacant'\n",
      " 'Vacant' 'Crowded' 'Quite Vacant' 'Vacant' 'Vacant' 'Crowded' 'Vacant'\n",
      " 'Vacant' 'Crowded' 'Quite Vacant' 'Quite Vacant' 'Quite Vacant'\n",
      " 'Quite Vacant' 'Crowded' 'Crowded' 'Crowded' 'Quite Vacant'\n",
      " 'Quite Vacant' 'Quite Vacant' 'Crowded' 'Crowded' 'Crowded' 'Crowded'\n",
      " 'Quite Vacant' 'Quite Vacant' 'Quite Vacant' 'Quite Crowded' 'Crowded'\n",
      " 'Crowded' 'Crowded' 'Quite Vacant' 'Quite Vacant' 'Quite Vacant'\n",
      " 'Crowded' 'Quite Crowded' 'Crowded' 'Crowded' 'Quite Vacant'\n",
      " 'Quite Vacant' 'Quite Vacant' 'Crowded' 'Crowded' 'Crowded' 'Crowded'\n",
      " 'Quite Vacant' 'Quite Vacant' 'Crowded' 'Crowded' 'Quite Vacant'\n",
      " 'Quite Vacant' 'Crowded' 'Quite Vacant' 'Quite Vacant' 'Quite Vacant'\n",
      " 'Quite Vacant' 'Quite Vacant' 'Quite Vacant' 'Crowded' 'Quite Vacant'\n",
      " 'Vacant' 'Quite Vacant' 'Quite Vacant' 'Quite Vacant' 'Crowded' 'Crowded'\n",
      " 'Quite Vacant' 'Crowded' 'Quite Vacant' 'Quite Vacant' 'Quite Vacant'\n",
      " 'Quite Vacant' 'Crowded' 'Quite Vacant' 'Quite Vacant' 'Quite Vacant'\n",
      " 'Quite Vacant' 'Crowded' 'Quite Vacant' 'Crowded' 'Quite Vacant' 'Vacant'\n",
      " 'Vacant' 'Vacant' 'Vacant' 'Vacant' 'Crowded' 'Quite Vacant' 'Vacant'\n",
      " 'Vacant' 'Vacant' 'Vacant' 'Vacant' 'Crowded' 'Quite Vacant'\n",
      " 'Quite Vacant' 'Quite Vacant' 'Crowded' 'Vacant' 'Vacant' 'Quite Crowded'\n",
      " 'Crowded' 'Crowded' 'Crowded' 'Crowded' 'Crowded']\n"
     ]
    }
   ],
   "source": [
    "#Print Results\n",
    "predictions = classifier.predict(data)\n",
    "print(f\"First 365 Predictions:   {predictions[:365]}\")"
   ]
  },
  {
   "cell_type": "code",
   "execution_count": 23,
   "metadata": {},
   "outputs": [],
   "source": [
    "#Save as DataFrame\n",
    "ds_predictions21 = pd.DataFrame(predictions, columns=[\"Crowd Level\"])"
   ]
  },
  {
   "cell_type": "code",
   "execution_count": 24,
   "metadata": {},
   "outputs": [],
   "source": [
    "#Save as CSV File\n",
    "#ds_predictions21.to_csv(r'C:\\Users\\Mickey\\Desktop\\Final_Project\\ds_predictions21.csv', index = False)"
   ]
  },
  {
   "cell_type": "code",
   "execution_count": null,
   "metadata": {},
   "outputs": [],
   "source": []
  }
 ],
 "metadata": {
  "kernelspec": {
   "display_name": "Python 3",
   "language": "python",
   "name": "python3"
  },
  "language_info": {
   "codemirror_mode": {
    "name": "ipython",
    "version": 3
   },
   "file_extension": ".py",
   "mimetype": "text/x-python",
   "name": "python",
   "nbconvert_exporter": "python",
   "pygments_lexer": "ipython3",
   "version": "3.8.3"
  }
 },
 "nbformat": 4,
 "nbformat_minor": 4
}
