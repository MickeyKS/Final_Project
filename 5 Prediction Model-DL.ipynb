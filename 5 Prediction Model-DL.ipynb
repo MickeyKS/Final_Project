{
 "cells": [
  {
   "cell_type": "markdown",
   "metadata": {},
   "source": [
    "5. Disneyland Prediction Model"
   ]
  },
  {
   "cell_type": "code",
   "execution_count": 1,
   "metadata": {},
   "outputs": [],
   "source": [
    "#Import Dependencies\n",
    "import pandas as pd\n",
    "import numpy as np\n",
    "import requests\n",
    "import io\n",
    "import os\n",
    "from sklearn import datasets, ensemble\n",
    "from sklearn import preprocessing\n",
    "from sklearn.model_selection import train_test_split\n",
    "from sklearn.linear_model import LogisticRegression\n",
    "from sklearn.ensemble import RandomForestRegressor\n",
    "from sklearn.preprocessing import StandardScaler\n",
    "from sklearn.metrics import mean_absolute_percentage_error\n",
    "from sklearn.metrics import mean_squared_error\n",
    "from sklearn.metrics import mean_absolute_error"
   ]
  },
  {
   "cell_type": "code",
   "execution_count": 2,
   "metadata": {},
   "outputs": [
    {
     "data": {
      "text/html": [
       "<div>\n",
       "<style scoped>\n",
       "    .dataframe tbody tr th:only-of-type {\n",
       "        vertical-align: middle;\n",
       "    }\n",
       "\n",
       "    .dataframe tbody tr th {\n",
       "        vertical-align: top;\n",
       "    }\n",
       "\n",
       "    .dataframe thead th {\n",
       "        text-align: right;\n",
       "    }\n",
       "</style>\n",
       "<table border=\"1\" class=\"dataframe\">\n",
       "  <thead>\n",
       "    <tr style=\"text-align: right;\">\n",
       "      <th></th>\n",
       "      <th>Year</th>\n",
       "      <th>Temperature Max</th>\n",
       "      <th>Hours Open</th>\n",
       "      <th>Public Holiday</th>\n",
       "      <th>School Holiday</th>\n",
       "      <th>Day of the Week</th>\n",
       "      <th>Day of the Year</th>\n",
       "      <th>Crowd Size</th>\n",
       "      <th>Crowd Level</th>\n",
       "    </tr>\n",
       "  </thead>\n",
       "  <tbody>\n",
       "    <tr>\n",
       "      <th>0</th>\n",
       "      <td>2019</td>\n",
       "      <td>13</td>\n",
       "      <td>9</td>\n",
       "      <td>1</td>\n",
       "      <td>1</td>\n",
       "      <td>2</td>\n",
       "      <td>365</td>\n",
       "      <td>63</td>\n",
       "      <td>6</td>\n",
       "    </tr>\n",
       "    <tr>\n",
       "      <th>1</th>\n",
       "      <td>2019</td>\n",
       "      <td>7</td>\n",
       "      <td>14</td>\n",
       "      <td>0</td>\n",
       "      <td>1</td>\n",
       "      <td>1</td>\n",
       "      <td>364</td>\n",
       "      <td>57</td>\n",
       "      <td>5</td>\n",
       "    </tr>\n",
       "    <tr>\n",
       "      <th>2</th>\n",
       "      <td>2019</td>\n",
       "      <td>11</td>\n",
       "      <td>14</td>\n",
       "      <td>0</td>\n",
       "      <td>1</td>\n",
       "      <td>7</td>\n",
       "      <td>363</td>\n",
       "      <td>40</td>\n",
       "      <td>3</td>\n",
       "    </tr>\n",
       "    <tr>\n",
       "      <th>3</th>\n",
       "      <td>2019</td>\n",
       "      <td>10</td>\n",
       "      <td>14</td>\n",
       "      <td>0</td>\n",
       "      <td>1</td>\n",
       "      <td>6</td>\n",
       "      <td>362</td>\n",
       "      <td>33</td>\n",
       "      <td>3</td>\n",
       "    </tr>\n",
       "    <tr>\n",
       "      <th>4</th>\n",
       "      <td>2019</td>\n",
       "      <td>14</td>\n",
       "      <td>14</td>\n",
       "      <td>0</td>\n",
       "      <td>1</td>\n",
       "      <td>5</td>\n",
       "      <td>361</td>\n",
       "      <td>34</td>\n",
       "      <td>3</td>\n",
       "    </tr>\n",
       "  </tbody>\n",
       "</table>\n",
       "</div>"
      ],
      "text/plain": [
       "   Year  Temperature Max  Hours Open  Public Holiday  School Holiday  \\\n",
       "0  2019               13           9               1               1   \n",
       "1  2019                7          14               0               1   \n",
       "2  2019               11          14               0               1   \n",
       "3  2019               10          14               0               1   \n",
       "4  2019               14          14               0               1   \n",
       "\n",
       "   Day of the Week  Day of the Year  Crowd Size  Crowd Level  \n",
       "0                2              365          63            6  \n",
       "1                1              364          57            5  \n",
       "2                7              363          40            3  \n",
       "3                6              362          33            3  \n",
       "4                5              361          34            3  "
      ]
     },
     "execution_count": 2,
     "metadata": {},
     "output_type": "execute_result"
    }
   ],
   "source": [
    "#Open CSV File\n",
    "input_data = pd.read_csv(os.path.join('Resources', 'final_dl-2020_data.csv'))\n",
    "\n",
    "#Print DataFrame\n",
    "input_data.head()"
   ]
  },
  {
   "cell_type": "code",
   "execution_count": 3,
   "metadata": {},
   "outputs": [
    {
     "data": {
      "text/html": [
       "<div>\n",
       "<style scoped>\n",
       "    .dataframe tbody tr th:only-of-type {\n",
       "        vertical-align: middle;\n",
       "    }\n",
       "\n",
       "    .dataframe tbody tr th {\n",
       "        vertical-align: top;\n",
       "    }\n",
       "\n",
       "    .dataframe thead th {\n",
       "        text-align: right;\n",
       "    }\n",
       "</style>\n",
       "<table border=\"1\" class=\"dataframe\">\n",
       "  <thead>\n",
       "    <tr style=\"text-align: right;\">\n",
       "      <th></th>\n",
       "      <th>Temperature Max</th>\n",
       "      <th>Hours Open</th>\n",
       "      <th>Public Holiday</th>\n",
       "      <th>School Holiday</th>\n",
       "      <th>Day of the Week</th>\n",
       "      <th>Day of the Year</th>\n",
       "      <th>Crowd Level</th>\n",
       "    </tr>\n",
       "  </thead>\n",
       "  <tbody>\n",
       "    <tr>\n",
       "      <th>0</th>\n",
       "      <td>13</td>\n",
       "      <td>9</td>\n",
       "      <td>1</td>\n",
       "      <td>1</td>\n",
       "      <td>2</td>\n",
       "      <td>365</td>\n",
       "      <td>6</td>\n",
       "    </tr>\n",
       "    <tr>\n",
       "      <th>1</th>\n",
       "      <td>7</td>\n",
       "      <td>14</td>\n",
       "      <td>0</td>\n",
       "      <td>1</td>\n",
       "      <td>1</td>\n",
       "      <td>364</td>\n",
       "      <td>5</td>\n",
       "    </tr>\n",
       "  </tbody>\n",
       "</table>\n",
       "</div>"
      ],
      "text/plain": [
       "   Temperature Max  Hours Open  Public Holiday  School Holiday  \\\n",
       "0               13           9               1               1   \n",
       "1                7          14               0               1   \n",
       "\n",
       "   Day of the Week  Day of the Year  Crowd Level  \n",
       "0                2              365            6  \n",
       "1                1              364            5  "
      ]
     },
     "execution_count": 3,
     "metadata": {},
     "output_type": "execute_result"
    }
   ],
   "source": [
    "#Drop Unnecessary Columns\n",
    "cols = [column for column in input_data.columns if column not in ['Year','Crowd Size']]\n",
    "data = input_data[cols]\n",
    "\n",
    "#Assign for Target\n",
    "target = input_data['Crowd Size']\n",
    "\n",
    "#Print DataFrame\n",
    "data.head(n=2)"
   ]
  },
  {
   "cell_type": "code",
   "execution_count": 4,
   "metadata": {},
   "outputs": [],
   "source": [
    "#Scale Data\n",
    "scaler = StandardScaler()\n",
    "new_data = scaler.fit_transform(data)"
   ]
  },
  {
   "cell_type": "code",
   "execution_count": 5,
   "metadata": {},
   "outputs": [],
   "source": [
    "#Split Dataset to Begin Test/Train\n",
    "data_train, data_test, target_train, target_test = train_test_split(new_data, target, test_size = 0.25, random_state = 1)"
   ]
  },
  {
   "cell_type": "code",
   "execution_count": 6,
   "metadata": {},
   "outputs": [
    {
     "data": {
      "text/plain": [
       "RandomForestRegressor(random_state=0)"
      ]
     },
     "execution_count": 6,
     "metadata": {},
     "output_type": "execute_result"
    }
   ],
   "source": [
    "#Fit into RandomForestRegressor\n",
    "regr = RandomForestRegressor(random_state=0)\n",
    "regr.fit(data_train, target_train)"
   ]
  },
  {
   "cell_type": "code",
   "execution_count": 7,
   "metadata": {},
   "outputs": [],
   "source": [
    "#Run RandomForestRegressor\n",
    "prediction = regr.predict(data_test)"
   ]
  },
  {
   "cell_type": "code",
   "execution_count": 8,
   "metadata": {},
   "outputs": [
    {
     "data": {
      "text/plain": [
       "1374    63\n",
       "885     38\n",
       "414     56\n",
       "1003    57\n",
       "201     21\n",
       "        ..\n",
       "35      27\n",
       "1430    42\n",
       "503     52\n",
       "702     42\n",
       "599     30\n",
       "Name: Crowd Size, Length: 366, dtype: int64"
      ]
     },
     "execution_count": 8,
     "metadata": {},
     "output_type": "execute_result"
    }
   ],
   "source": [
    "#Run Target Test\n",
    "target_test"
   ]
  },
  {
   "cell_type": "code",
   "execution_count": 9,
   "metadata": {},
   "outputs": [
    {
     "data": {
      "text/plain": [
       "array([66.69, 37.94, 52.4 , 57.87, 26.04, 46.62, 22.13, 64.21, 32.89,\n",
       "       61.91, 25.05, 37.69, 25.57, 32.73, 27.05, 23.26, 55.95, 65.27,\n",
       "       22.07, 66.13, 53.76, 22.64, 32.71, 24.87, 55.  , 46.12, 37.86,\n",
       "       65.69, 46.01, 36.43, 25.73, 44.96, 46.77, 33.73, 29.63, 22.88,\n",
       "       32.95, 22.73, 26.99, 44.37, 24.7 , 36.67, 55.55, 57.4 , 46.04,\n",
       "       29.99, 26.12, 55.43, 24.87, 46.96, 36.  , 62.13, 55.07, 43.87,\n",
       "       57.29, 58.08, 43.56, 27.08, 56.39, 33.71, 22.55, 32.86, 36.39,\n",
       "       32.56, 26.99, 44.59, 54.43, 36.73, 37.81, 43.17, 35.33, 27.46,\n",
       "       21.48, 34.34, 57.97, 37.08, 35.28, 67.67, 33.11, 47.49, 36.42,\n",
       "       24.19, 54.89, 57.64, 36.92, 20.47, 37.18, 36.89, 27.26, 36.91,\n",
       "       36.13, 57.6 , 27.13, 28.78, 69.81, 58.19, 25.81, 54.72, 52.87,\n",
       "       46.55, 56.74, 26.99, 27.01, 26.57, 47.54, 38.08, 29.32, 46.47,\n",
       "       32.42, 64.67, 66.48, 34.74, 35.24, 38.44, 44.37, 56.3 , 56.83,\n",
       "       32.31, 36.84, 32.68, 26.52, 46.46, 56.06, 57.41, 26.77, 45.48,\n",
       "       28.85, 46.03, 27.26, 32.  , 29.58, 35.99, 66.79, 56.58, 44.2 ,\n",
       "       26.75, 22.21, 48.45, 35.07, 65.68, 67.07, 42.48, 54.44, 35.4 ,\n",
       "       58.25, 31.93, 66.82, 43.19, 49.64, 69.23, 35.37, 44.22, 39.36,\n",
       "       36.32, 38.11, 26.14, 43.96, 36.82, 29.88, 55.04, 33.74, 36.62,\n",
       "       36.69, 26.35, 39.37, 22.  , 25.72, 58.02, 45.74, 28.23, 56.83,\n",
       "       26.74, 48.42, 32.8 , 27.28, 29.48, 53.79, 63.59, 37.39, 47.17,\n",
       "       42.39, 56.06, 24.77, 48.28, 37.43, 19.56, 57.84, 32.68, 65.44,\n",
       "       36.78, 28.87, 47.05, 57.61, 32.21, 22.36, 37.15, 22.16, 24.97,\n",
       "       55.13, 57.33, 36.87, 37.63, 46.91, 48.92, 35.17, 56.4 , 54.97,\n",
       "       57.98, 35.82, 35.54, 22.25, 29.14, 28.51, 55.74, 68.59, 45.77,\n",
       "       34.07, 45.99, 23.23, 55.14, 66.11, 36.55, 42.81, 28.19, 37.13,\n",
       "       33.67, 57.32, 69.34, 26.96, 22.96, 65.35, 37.16, 56.78, 25.02,\n",
       "       22.19, 37.85, 55.36, 54.54, 37.81, 23.33, 27.29, 67.65, 36.06,\n",
       "       44.53, 23.32, 25.73, 38.34, 45.6 , 47.59, 36.94, 46.24, 46.12,\n",
       "       56.37, 26.18, 56.98, 42.96, 54.24, 57.14, 32.42, 24.32, 37.45,\n",
       "       37.82, 45.97, 37.6 , 37.94, 34.13, 35.4 , 38.03, 45.82, 36.04,\n",
       "       33.24, 35.88, 29.92, 54.78, 25.07, 57.7 , 58.01, 33.03, 26.27,\n",
       "       26.51, 36.  , 57.4 , 65.78, 35.4 , 37.53, 55.56, 54.85, 47.38,\n",
       "       36.96, 36.59, 47.14, 35.36, 44.34, 59.02, 27.99, 43.31, 65.72,\n",
       "       56.28, 42.53, 46.  , 47.08, 36.78, 26.94, 55.38, 22.02, 46.72,\n",
       "       26.99, 57.73, 23.21, 47.81, 42.91, 25.93, 69.41, 48.07, 37.26,\n",
       "       30.  , 25.22, 34.9 , 32.9 , 46.03, 32.84, 47.02, 32.07, 34.59,\n",
       "       44.29, 25.88, 42.8 , 56.37, 19.64, 33.79, 38.1 , 32.88, 33.71,\n",
       "       45.98, 57.91, 26.97, 56.58, 35.21, 45.98, 27.41, 37.76, 35.51,\n",
       "       33.34, 42.93, 43.55, 62.06, 32.28, 37.45, 31.69, 33.54, 69.78,\n",
       "       64.63, 54.37, 37.81, 36.67, 25.79, 37.34, 47.23, 32.8 , 36.21,\n",
       "       48.22, 26.94, 42.03, 57.38, 43.52, 27.05])"
      ]
     },
     "execution_count": 9,
     "metadata": {},
     "output_type": "execute_result"
    }
   ],
   "source": [
    "#Run Prediction\n",
    "prediction"
   ]
  },
  {
   "cell_type": "code",
   "execution_count": 10,
   "metadata": {},
   "outputs": [
    {
     "data": {
      "text/plain": [
       "7.521150273224044"
      ]
     },
     "execution_count": 10,
     "metadata": {},
     "output_type": "execute_result"
    }
   ],
   "source": [
    "#Print Mean Squared Error\n",
    "mean_squared_error(target_test, prediction)"
   ]
  },
  {
   "cell_type": "code",
   "execution_count": 11,
   "metadata": {},
   "outputs": [
    {
     "data": {
      "text/plain": [
       "1.9560655737704917"
      ]
     },
     "execution_count": 11,
     "metadata": {},
     "output_type": "execute_result"
    }
   ],
   "source": [
    "#Print Mean Absolute Error\n",
    "mean_absolute_error(target_test, prediction)"
   ]
  },
  {
   "cell_type": "code",
   "execution_count": 12,
   "metadata": {},
   "outputs": [],
   "source": [
    "#Save as DataFrame\n",
    "dl_predictions21 = pd.DataFrame(prediction, columns=[\"Crowd Size\"])"
   ]
  },
  {
   "cell_type": "code",
   "execution_count": 102,
   "metadata": {},
   "outputs": [],
   "source": [
    "#Save as CSV File\n",
    "dl_predictions21.to_csv(r'C:\\Users\\Mickey\\Desktop\\Final_Project\\Output\\dl_predictions21.csv', index = False)"
   ]
  },
  {
   "cell_type": "code",
   "execution_count": null,
   "metadata": {},
   "outputs": [],
   "source": []
  }
 ],
 "metadata": {
  "kernelspec": {
   "display_name": "Python 3",
   "language": "python",
   "name": "python3"
  },
  "language_info": {
   "codemirror_mode": {
    "name": "ipython",
    "version": 3
   },
   "file_extension": ".py",
   "mimetype": "text/x-python",
   "name": "python",
   "nbconvert_exporter": "python",
   "pygments_lexer": "ipython3",
   "version": "3.8.3"
  }
 },
 "nbformat": 4,
 "nbformat_minor": 4
}
